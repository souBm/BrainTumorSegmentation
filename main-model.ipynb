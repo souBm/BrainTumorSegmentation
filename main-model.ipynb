{
 "cells": [
  {
   "cell_type": "code",
   "execution_count": 2,
   "metadata": {},
   "outputs": [],
   "source": [
    "import os\n",
    "import numpy as np\n",
    "from skimage import io, color, filters\n",
    "from sklearn.cluster import KMeans\n",
    "from scipy.optimize import minimize\n",
    "from sklearn.model_selection import train_test_split\n",
    "from sklearn.ensemble import RandomForestClassifier\n",
    "from sklearn.metrics import accuracy_score, f1_score\n",
    "from sklearn.decomposition import PCA\n",
    "import pickle\n",
    "import lzma"
   ]
  },
  {
   "cell_type": "code",
   "execution_count": 3,
   "metadata": {},
   "outputs": [],
   "source": [
    "# Function to load an image\n",
    "def load_image(image_path):\n",
    "    return io.imread(image_path, as_gray=True)\n",
    "\n",
    "# Function to preprocess an image\n",
    "def pre_process(image):\n",
    "    if len(image.shape) > 2:\n",
    "        image = color.rgb2gray(image)\n",
    "    image_blur = filters.gaussian(image, sigma=1)\n",
    "    return image_blur"
   ]
  },
  {
   "cell_type": "code",
   "execution_count": 4,
   "metadata": {},
   "outputs": [],
   "source": [
    "# Fuzzy C-means clustering algorithm\n",
    "def fuzzy_c_means(data, n_clusters, m):\n",
    "    def objective_function(centers, data):\n",
    "        distances = np.linalg.norm(data[:, np.newaxis] - centers, axis=2)\n",
    "        membership = 1 / distances ** (2 / (m - 1))\n",
    "        membership_sum = np.sum(membership, axis=1)\n",
    "        objective = np.sum((membership ** m) * distances)\n",
    "        return objective\n",
    "\n",
    "    initial_guess = np.random.rand(n_clusters * data.shape[-1])\n",
    "    result = minimize(objective_function, initial_guess, args=(data,),\n",
    "                      method='L-BFGS-B', options={'disp': False})\n",
    "    return result.x.reshape(n_clusters, data.shape[-1])"
   ]
  },
  {
   "cell_type": "code",
   "execution_count": 5,
   "metadata": {},
   "outputs": [],
   "source": [
    "# Function to segment tumor from an image\n",
    "def segment_tumor(image, n_clusters=3, m=2):\n",
    "    data = image.reshape(-1, 1)\n",
    "    centers = fuzzy_c_means(data, n_clusters, m)\n",
    "    kmeans = KMeans(n_clusters=n_clusters, init=centers.reshape(-1, 1), n_init=1)\n",
    "    kmeans.fit(data)\n",
    "    segmented_image = kmeans.labels_.reshape(image.shape)\n",
    "    return segmented_image"
   ]
  },
  {
   "cell_type": "code",
   "execution_count": 6,
   "metadata": {},
   "outputs": [],
   "source": [
    "# Function to process images in a folder\n",
    "def process_images(input_folder):\n",
    "    segmented_images = []\n",
    "    for filename in os.listdir(input_folder):\n",
    "        if filename.endswith(\".png\") or filename.endswith(\".jpg\"):\n",
    "            input_image_path = os.path.join(input_folder, filename)\n",
    "            image = load_image(input_image_path)\n",
    "            image_processed = pre_process(image)\n",
    "            segmented_image = segment_tumor(image_processed)\n",
    "            segmented_images.append(segmented_image)\n",
    "    return segmented_images"
   ]
  },
  {
   "cell_type": "code",
   "execution_count": 7,
   "metadata": {},
   "outputs": [],
   "source": [
    "# Function to train a random forest classifier with PCA\n",
    "def train_random_forest(segmented_images, mask_images_arr):\n",
    "    print(\"Training Random Forest classifier...\")\n",
    "    seg_num_samples, seg_height, seg_width = segmented_images.shape\n",
    "    segmented_images = segmented_images.reshape(seg_num_samples, seg_height * seg_width)\n",
    "    mask_images_flat = np.array([mask.ravel() for mask in mask_images_arr])\n",
    "\n",
    "    # Apply PCA for dimensionality reduction\n",
    "    pca = PCA(n_components=0.90)  # Retain 90% of the variance to further reduce size\n",
    "    segmented_images = pca.fit_transform(segmented_images)\n",
    "\n",
    "    X_train, X_test, y_train, y_test = train_test_split(segmented_images, mask_images_flat, test_size=0.2, random_state=42)\n",
    "    \n",
    "    clf = RandomForestClassifier(n_estimators=30, max_depth=15, random_state=42)  # Reduce the number of estimators and limit the depth further\n",
    "    clf.fit(X_train, y_train)\n",
    "    print(\"Model Trained.\")\n",
    "\n",
    "    return clf, pca, X_test, y_test"
   ]
  },
  {
   "cell_type": "code",
   "execution_count": 8,
   "metadata": {},
   "outputs": [],
   "source": [
    "# Function to save the trained model and PCA transformer\n",
    "def save_model(model, pca, output_folder):\n",
    "    if not os.path.exists(output_folder):\n",
    "        os.makedirs(output_folder)\n",
    "    \n",
    "    model_path = os.path.join(output_folder, 'random_forest_model.pkl')\n",
    "    with lzma.open(model_path, 'wb') as f:\n",
    "        pickle.dump(model, f)  # Use lzma compression for better results\n",
    "\n",
    "    pca_path = os.path.join(output_folder, 'pca_transformer.pkl')\n",
    "    with open(pca_path, 'wb') as f:\n",
    "        pickle.dump(pca, f)  # Save the PCA transformer as well\n",
    "\n",
    "    print(f\"Model and PCA transformer saved at {output_folder}\")"
   ]
  },
  {
   "cell_type": "code",
   "execution_count": 9,
   "metadata": {},
   "outputs": [],
   "source": [
    "# Function to evaluate model accuracy and Dice coefficient\n",
    "def evaluate_model(clf, X_test, y_test):\n",
    "    y_pred = clf.predict(X_test)\n",
    "\n",
    "    # Calculate accuracy for each output separately\n",
    "    accuracies = [accuracy_score(y_test[:, i], y_pred[:, i]) for i in range(y_test.shape[1])]\n",
    "    average_accuracy = sum(accuracies) / len(accuracies)\n",
    "\n",
    "    # Calculate Dice coefficient for each output separately\n",
    "    dice_coefs = [f1_score(y_test[:, i], y_pred[:, i], average='micro') for i in range(y_test.shape[1])]\n",
    "    average_dice_coef = sum(dice_coefs) / len(dice_coefs)\n",
    "\n",
    "    print(f\"Average Accuracy: {average_accuracy:.4f}\")\n",
    "    print(f\"Average Dice Coefficient: {average_dice_coef:.4f}\")\n",
    "\n",
    "    return average_accuracy, average_dice_coef"
   ]
  },
  {
   "cell_type": "code",
   "execution_count": 10,
   "metadata": {},
   "outputs": [
    {
     "name": "stdout",
     "output_type": "stream",
     "text": [
      "Training Random Forest classifier...\n",
      "Model Trained.\n",
      "Model and PCA transformer saved at ./DATA/model\n",
      "Average Accuracy: 0.9975\n",
      "Average Dice Coefficient: 0.9975\n"
     ]
    }
   ],
   "source": [
    "# Main function\n",
    "if __name__ == \"__main__\":\n",
    "    input_folder = \"DATA/p4/training\"\n",
    "    mask_folder = \"DATA/p4/mask\"\n",
    "    model_output_folder = \"./DATA/model\"\n",
    "\n",
    "    # Load mask images\n",
    "    mask_images_arr = []\n",
    "    for filenames in os.listdir(mask_folder):\n",
    "        if filenames.endswith(\".png\") or filenames.endswith(\".jpg\"):\n",
    "            mask_image_path = os.path.join(mask_folder, filenames)\n",
    "            mask_image = load_image(mask_image_path)\n",
    "            mask_images_arr.append(mask_image)\n",
    "\n",
    "    # Process images\n",
    "    segmented_images = process_images(input_folder)\n",
    "    segmented_images_arr = np.array(segmented_images)\n",
    "    mask_images_arr = np.array(mask_images_arr)\n",
    "\n",
    "    # Train random forest classifier\n",
    "    clf, pca, X_test, y_test = train_random_forest(segmented_images_arr, mask_images_arr)\n",
    "\n",
    "    # Save trained model and PCA transformer\n",
    "    save_model(clf, pca, model_output_folder)\n",
    "\n",
    "    # Evaluate the trained model\n",
    "    average_accuracy, average_dice_coef = evaluate_model(clf, X_test, y_test)"
   ]
  }
 ],
 "metadata": {
  "kernelspec": {
   "display_name": "Python 3",
   "language": "python",
   "name": "python3"
  },
  "language_info": {
   "name": "python",
   "version": "3.11.4"
  }
 },
 "nbformat": 4,
 "nbformat_minor": 2
}
